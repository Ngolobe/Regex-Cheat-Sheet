{
 "cells": [
  {
   "cell_type": "markdown",
   "metadata": {},
   "source": [
    "# Regex Cheat Sheet"
   ]
  },
  {
   "cell_type": "markdown",
   "metadata": {},
   "source": [
    "A regular expression is a sequence of characters that define a search pattern. Usually such patterns are used by string-searching algorithms for \"find\" or \"find and replace\" operations on strings, or for input validation. It is a technique developed in theoretical computer science and formal language theory"
   ]
  },
  {
   "cell_type": "markdown",
   "metadata": {
    "ExecuteTime": {
     "end_time": "2020-04-16T10:54:17.421983Z",
     "start_time": "2020-04-16T10:54:17.420520Z"
    }
   },
   "source": [
    "###  Search for a pattern 'brand' .  If found print 'found' else print 'not found'\n"
   ]
  },
  {
   "cell_type": "code",
   "execution_count": 18,
   "metadata": {
    "ExecuteTime": {
     "end_time": "2020-04-16T12:09:47.817479Z",
     "start_time": "2020-04-16T12:09:47.815855Z"
    }
   },
   "outputs": [
    {
     "name": "stdout",
     "output_type": "stream",
     "text": [
      "brand\n",
      "found\n"
     ]
    }
   ],
   "source": [
    "import re\n",
    "\n",
    "text = 'Apple is a tech brand, not a fruit'\n",
    "result = re.search(r'brand', text)\n",
    "print (result.group(0))\n",
    "\n",
    "if result.group(0) == 'brand':\n",
    "    print('found')\n",
    "else:\n",
    "    print('not found')"
   ]
  },
  {
   "cell_type": "markdown",
   "metadata": {},
   "source": [
    "### Split the given text at @"
   ]
  },
  {
   "cell_type": "code",
   "execution_count": 13,
   "metadata": {},
   "outputs": [
    {
     "data": {
      "text/plain": [
       "['the list of given email are harry', 'gmail.com , ron', 'hotmail.com']"
      ]
     },
     "execution_count": 13,
     "metadata": {},
     "output_type": "execute_result"
    }
   ],
   "source": [
    "phrase = 'the list of given email are harry@gmail.com , ron@hotmail.com'\n",
    "result=re.split(r'@',phrase)\n",
    "result\n"
   ]
  },
  {
   "cell_type": "markdown",
   "metadata": {
    "ExecuteTime": {
     "end_time": "2020-04-16T11:36:21.549451Z",
     "start_time": "2020-04-16T11:36:21.546253Z"
    }
   },
   "source": [
    "### Remove the punctation from the given sentence"
   ]
  },
  {
   "cell_type": "code",
   "execution_count": 25,
   "metadata": {
    "ExecuteTime": {
     "end_time": "2020-05-05T07:27:05.239331Z",
     "start_time": "2020-05-05T07:27:05.233406Z"
    }
   },
   "outputs": [
    {
     "name": "stdout",
     "output_type": "stream",
     "text": [
      "hi are you doing good\n"
     ]
    }
   ],
   "source": [
    "test_phrase = 'hi! are you doing good?'\n",
    "result= re.sub(r'[!?]','', test_phrase)\n",
    "print(result)"
   ]
  },
  {
   "cell_type": "markdown",
   "metadata": {},
   "source": [
    "### Write a list of test patterns having a sequence of \n",
    "- lower case letters, \n",
    "- uppercase letters, \n",
    "- lower or upper \n",
    "- and one upper case followed by lower case"
   ]
  },
  {
   "cell_type": "code",
   "execution_count": 53,
   "metadata": {
    "ExecuteTime": {
     "end_time": "2020-05-05T07:31:14.524139Z",
     "start_time": "2020-05-05T07:31:14.515697Z"
    }
   },
   "outputs": [
    {
     "name": "stdout",
     "output_type": "stream",
     "text": [
      "['egex', 's', 'difficult', 'to', 'grasp', 'in', 'short', 'period', 'of', 'time']\n",
      "['R', 'I']\n",
      "['Regex', 'Is', 'difficult', 'to', 'grasp', 'in', 'short', 'period', 'of', 'time']\n",
      "['Regex', 'Is']\n"
     ]
    }
   ],
   "source": [
    "import re\n",
    "test_phrase = 'Regex Is difficult to grasp in short period of time'\n",
    "\n",
    "#and one upper case followed by lower case\n",
    "pattern1 = '[a-z]+[a-z]|[a-z]'\n",
    "pattern2 = '[A-Z]+'\n",
    "pattern3 = '[A-Z|a-z]+'\n",
    "pattern4 = '[A-Z]+[a-z]+'\n",
    "\n",
    "result1 = re.findall(pattern1, test_phrase)\n",
    "result2 = re.findall(pattern2, test_phrase)\n",
    "result3 = re.findall(pattern3, test_phrase)\n",
    "result4 = re.findall(pattern4, test_phrase)\n",
    "\n",
    "print(result1)\n",
    "print(result2)\n",
    "print(result3)\n",
    "print(result4)\n",
    "\n",
    "\n",
    "\n",
    "#answer\n",
    "#['egex', 's', 'difficult', 'to', 'grasp', 'in', 'short', 'period', 'of', 'time']\n",
    "\n",
    "#['R', 'I']\n",
    "\n",
    "#['Regex', 'Is', 'difficult', 'to', 'grasp', 'in', 'short', 'period', 'of', 'time']\n",
    "\n",
    "#['Regex', 'Is']\n",
    "\n"
   ]
  },
  {
   "cell_type": "markdown",
   "metadata": {
    "ExecuteTime": {
     "end_time": "2020-04-16T11:41:48.341581Z",
     "start_time": "2020-04-16T11:41:48.340108Z"
    }
   },
   "source": [
    "### Write a list of test patterns having a sequence \n",
    "- sequence of non-digits\n",
    "- sequence of whitespace\n",
    "- sequence of non-whitespace\n",
    "- alphanumeric characters\n",
    "- non-alphanumeric"
   ]
  },
  {
   "cell_type": "code",
   "execution_count": 158,
   "metadata": {
    "ExecuteTime": {
     "end_time": "2020-05-05T07:31:35.002086Z",
     "start_time": "2020-05-05T07:31:35.000369Z"
    }
   },
   "outputs": [
    {
     "name": "stdout",
     "output_type": "stream",
     "text": [
      "['This is a string with some numbers ', ' and a symbol #hashtag']\n",
      "[' ', ' ', ' ', ' ', ' ', ' ', ' ', ' ', ' ', ' ', ' ']\n",
      "['This', 'is', 'a', 'string', 'with', 'some', 'numbers', '1233', 'and', 'a', 'symbol', '#hashtag']\n",
      "['This', 'is', 'a', 'string', 'with', 'some', 'numbers', '1233', 'and', 'a', 'symbol', 'hashtag']\n",
      "[' ', ' ', ' ', ' ', ' ', ' ', ' ', ' ', ' ', ' ', ' #']\n"
     ]
    }
   ],
   "source": [
    "import re\n",
    "test_phrase = 'This is a string with some numbers 1233 and a symbol #hashtag'\n",
    "pattern1 = '[^0-9]+'\n",
    "pattern2 = '\\s+'\n",
    "pattern3 = '\\S+'\n",
    "pattern4 = '\\w+'\n",
    "pattern5 = '\\W+'\n",
    "\n",
    "result1 = re.findall(pattern1, test_phrase)\n",
    "result2 = re.findall(pattern2, test_phrase)\n",
    "result3 = re.findall(pattern3, test_phrase)\n",
    "result4 = re.findall(pattern4, test_phrase)\n",
    "result5 = re.findall(pattern5, test_phrase)\n",
    "\n",
    "print(result1)\n",
    "print(result2)\n",
    "print(result3)\n",
    "print(result4)\n",
    "print(result5)"
   ]
  },
  {
   "cell_type": "markdown",
   "metadata": {},
   "source": [
    "### Find the date from the given text"
   ]
  },
  {
   "cell_type": "code",
   "execution_count": 18,
   "metadata": {
    "ExecuteTime": {
     "end_time": "2020-05-05T07:31:42.956012Z",
     "start_time": "2020-05-05T07:31:42.954342Z"
    }
   },
   "outputs": [
    {
     "name": "stdout",
     "output_type": "stream",
     "text": [
      "['12', '12', '1992']\n"
     ]
    }
   ],
   "source": [
    "text=\"is your birthday in 12-12-1992\"\n",
    "pattern = '[0-9]+'\n",
    "result = re.findall(pattern, text)\n",
    "print(result)"
   ]
  },
  {
   "cell_type": "markdown",
   "metadata": {},
   "source": [
    "### Write a regrex that finds anything that starts with 'bat''"
   ]
  },
  {
   "cell_type": "code",
   "execution_count": 6,
   "metadata": {
    "ExecuteTime": {
     "end_time": "2020-05-05T07:32:29.063027Z",
     "start_time": "2020-05-05T07:32:29.056597Z"
    }
   },
   "outputs": [
    {
     "name": "stdout",
     "output_type": "stream",
     "text": [
      "['bat', 'bat']\n"
     ]
    }
   ],
   "source": [
    "import re\n",
    "text=\"Here comes the batman in batmobile\"\n",
    "pattern = r'bat'\n",
    "result = re.findall(pattern, text)\n",
    "print(result)"
   ]
  },
  {
   "cell_type": "markdown",
   "metadata": {},
   "source": [
    "### Write a regrex that finds all the words that end with 'at'"
   ]
  },
  {
   "cell_type": "code",
   "execution_count": 8,
   "metadata": {
    "ExecuteTime": {
     "end_time": "2020-05-05T07:33:04.256124Z",
     "start_time": "2020-05-05T07:33:04.248943Z"
    }
   },
   "outputs": [
    {
     "data": {
      "text/plain": [
       "['at', 't', 'at', 'at', 'at', 't', 'at']"
      ]
     },
     "execution_count": 8,
     "metadata": {},
     "output_type": "execute_result"
    }
   ],
   "source": [
    "import re\n",
    "text=\"The cat in the hat sat flat on the mat.\"\n",
    "match=re.findall(r\"[a]*t\",text)\n",
    "match"
   ]
  },
  {
   "cell_type": "markdown",
   "metadata": {},
   "source": [
    "### Find the first name and the last name of the person"
   ]
  },
  {
   "cell_type": "code",
   "execution_count": 12,
   "metadata": {
    "ExecuteTime": {
     "end_time": "2020-05-05T07:33:18.131772Z",
     "start_time": "2020-05-05T07:33:18.125624Z"
    }
   },
   "outputs": [
    {
     "name": "stdout",
     "output_type": "stream",
     "text": [
      "[' Travis '] [' Baker']\n"
     ]
    }
   ],
   "source": [
    "text=\"First Name: Travis Last Name: Baker\"\n",
    "match1=re.findall(r'\\s*Travis\\s*',text)\n",
    "match1\n",
    "match2=re.findall(r'\\s*Baker\\s*',text)\n",
    "print(match1, match2)\n"
   ]
  },
  {
   "cell_type": "markdown",
   "metadata": {},
   "source": [
    " ### Find all the words with an internal o. "
   ]
  },
  {
   "cell_type": "code",
   "execution_count": 157,
   "metadata": {
    "ExecuteTime": {
     "end_time": "2020-05-05T07:35:10.379986Z",
     "start_time": "2020-05-05T07:35:10.373343Z"
    }
   },
   "outputs": [
    {
     "data": {
      "text/plain": [
       "['brown', ' fox ']"
      ]
     },
     "execution_count": 157,
     "metadata": {},
     "output_type": "execute_result"
    }
   ],
   "source": [
    "text=\"the quick brown fox over \"\n",
    "match1=re.findall(r'..o..',text)\n",
    "match1"
   ]
  },
  {
   "cell_type": "markdown",
   "metadata": {},
   "source": [
    "### Find that begin or end with o"
   ]
  },
  {
   "cell_type": "code",
   "execution_count": 36,
   "metadata": {
    "ExecuteTime": {
     "end_time": "2020-05-05T07:35:35.271053Z",
     "start_time": "2020-05-05T07:35:35.264895Z"
    }
   },
   "outputs": [
    {
     "data": {
      "text/plain": [
       "['bro', 'fo', 'over', 'do']"
      ]
     },
     "execution_count": 36,
     "metadata": {},
     "output_type": "execute_result"
    }
   ],
   "source": [
    "text=\"quick brown fox jumps over a lazy dog\"\n",
    "match1=re.findall(r\"o[a-z]*|[a-z]*o\",text)\n",
    "match1"
   ]
  },
  {
   "cell_type": "markdown",
   "metadata": {
    "ExecuteTime": {
     "end_time": "2020-04-16T11:59:47.048687Z",
     "start_time": "2020-04-16T11:59:47.047215Z"
    }
   },
   "source": [
    "### Print the answer in the given format . hint use re.sub\n",
    "'The quick =brown= =fox=  jumped =over= the lazy =dog= '\n"
   ]
  },
  {
   "cell_type": "code",
   "execution_count": 127,
   "metadata": {
    "ExecuteTime": {
     "end_time": "2020-05-05T07:36:20.922082Z",
     "start_time": "2020-05-05T07:36:20.916138Z"
    }
   },
   "outputs": [
    {
     "name": "stdout",
     "output_type": "stream",
     "text": [
      "the=quick=brown=fox=jumped=over=the=lazy=dog\n"
     ]
    }
   ],
   "source": [
    "text=\"the quick brown fox jumped over the lazy dog\"\n",
    "result= re.sub(r'[\\s]','=', text)\n",
    "print(result)"
   ]
  },
  {
   "cell_type": "markdown",
   "metadata": {
    "ExecuteTime": {
     "end_time": "2020-04-16T12:02:09.298956Z",
     "start_time": "2020-04-16T12:02:09.297540Z"
    }
   },
   "source": [
    "### Get the month from the given text"
   ]
  },
  {
   "cell_type": "code",
   "execution_count": 150,
   "metadata": {
    "ExecuteTime": {
     "end_time": "2020-05-05T07:38:48.391442Z",
     "start_time": "2020-05-05T07:38:48.389504Z"
    }
   },
   "outputs": [
    {
     "name": "stdout",
     "output_type": "stream",
     "text": [
      "['-10-', '-02-']\n"
     ]
    }
   ],
   "source": [
    "text=\"bill gate was born in 28-10-1955 and will was born in 1-02-2000\"\n",
    "pattern = '-[0-9]*-'\n",
    "result = re.findall(pattern, text)\n",
    "print(result)\n"
   ]
  },
  {
   "cell_type": "markdown",
   "metadata": {
    "ExecuteTime": {
     "end_time": "2020-04-16T12:04:56.638562Z",
     "start_time": "2020-04-16T12:04:56.633354Z"
    }
   },
   "source": [
    "### Splits before every o"
   ]
  },
  {
   "cell_type": "code",
   "execution_count": 56,
   "metadata": {
    "ExecuteTime": {
     "end_time": "2020-05-05T07:39:13.753000Z",
     "start_time": "2020-05-05T07:39:13.750958Z"
    }
   },
   "outputs": [
    {
     "data": {
      "text/plain": [
       "['python is an', 'bject', 'riented langugae']"
      ]
     },
     "execution_count": 56,
     "metadata": {},
     "output_type": "execute_result"
    }
   ],
   "source": [
    "text=\"python is an object oriented langugae\"\n",
    "result=re.split(r'\\so',text)\n",
    "result\n"
   ]
  },
  {
   "cell_type": "code",
   "execution_count": 59,
   "metadata": {},
   "outputs": [
    {
     "data": {
      "text/plain": [
       "['pyth', 'on is an ', 'object ', 'oriented langugae']"
      ]
     },
     "execution_count": 59,
     "metadata": {},
     "output_type": "execute_result"
    }
   ],
   "source": [
    "h=re.compile(\"(?=o)\")\n",
    "\n",
    "h.split(text)"
   ]
  },
  {
   "cell_type": "markdown",
   "metadata": {
    "ExecuteTime": {
     "end_time": "2020-04-16T12:18:48.527842Z",
     "start_time": "2020-04-16T12:18:48.525964Z"
    }
   },
   "source": [
    "### Write a pattern that find dogs and dog"
   ]
  },
  {
   "cell_type": "code",
   "execution_count": 53,
   "metadata": {
    "ExecuteTime": {
     "end_time": "2020-05-05T07:39:33.260903Z",
     "start_time": "2020-05-05T07:39:33.257158Z"
    }
   },
   "outputs": [
    {
     "data": {
      "text/plain": [
       "['dogs', 'dog']"
      ]
     },
     "execution_count": 53,
     "metadata": {},
     "output_type": "execute_result"
    }
   ],
   "source": [
    "import re\n",
    "test_string = \"I like dogs but my dog doesn't like me.\"\n",
    "match1=re.findall(r\"(?<=\\s)(dogs|dog)\",test_string)\n",
    "match1\n"
   ]
  },
  {
   "cell_type": "markdown",
   "metadata": {},
   "source": [
    "### Find all the p's and q's in the test string below."
   ]
  },
  {
   "cell_type": "code",
   "execution_count": 63,
   "metadata": {
    "ExecuteTime": {
     "end_time": "2020-05-05T07:40:06.938333Z",
     "start_time": "2020-05-05T07:40:06.931681Z"
    }
   },
   "outputs": [
    {
     "data": {
      "text/plain": [
       "['Q', 'p', 'p', 'p', 'q']"
      ]
     },
     "execution_count": 63,
     "metadata": {},
     "output_type": "execute_result"
    }
   ],
   "source": [
    "\n",
    "test_string = \"Quick, pizzaz shop is closing. Is this a path to queensland?\"\n",
    "mat=re.findall(r'(p|q|Q)',test_string)\n",
    "mat\n"
   ]
  },
  {
   "cell_type": "markdown",
   "metadata": {},
   "source": [
    "### Find everything except t in word"
   ]
  },
  {
   "cell_type": "code",
   "execution_count": 77,
   "metadata": {
    "ExecuteTime": {
     "end_time": "2020-05-05T07:40:11.055044Z",
     "start_time": "2020-05-05T07:40:11.053195Z"
    }
   },
   "outputs": [
    {
     "data": {
      "text/plain": [
       "['', 'he quick brown fox jumped over ', '', 'he lazy dog', '']"
      ]
     },
     "execution_count": 77,
     "metadata": {},
     "output_type": "execute_result"
    }
   ],
   "source": [
    "test_string = 'the quick brown fox jumped over the lazy dog'\n",
    "mat=re.findall(r'[^t]*',test_string)\n",
    "mat"
   ]
  },
  {
   "cell_type": "markdown",
   "metadata": {},
   "source": [
    "### Find all the ^ characters in the following test sentence."
   ]
  },
  {
   "cell_type": "code",
   "execution_count": 83,
   "metadata": {
    "ExecuteTime": {
     "end_time": "2020-05-05T07:40:35.794030Z",
     "start_time": "2020-05-05T07:40:35.787348Z"
    }
   },
   "outputs": [
    {
     "data": {
      "text/plain": [
       "['^', '^', '^', '^']"
      ]
     },
     "execution_count": 83,
     "metadata": {},
     "output_type": "execute_result"
    }
   ],
   "source": [
    "\n",
    "\n",
    "test_string = \"\"\"You can match the characters not listed within the class by complementing the set. \n",
    "\n",
    "This is indicated by including a ^ as the first character of the class; \n",
    "\n",
    "^ outside a character class will simply match the ^ character. \n",
    "\n",
    "For example, [^5] will match any character except 5\"\"\"\n",
    "\n",
    "mat=re.findall(r\"(?:\\^)\",test_string)\n",
    "mat\n",
    "\n"
   ]
  },
  {
   "cell_type": "markdown",
   "metadata": {},
   "source": [
    "### Find all three digit prices in the following test sentence. "
   ]
  },
  {
   "cell_type": "code",
   "execution_count": 80,
   "metadata": {
    "ExecuteTime": {
     "end_time": "2020-05-05T07:40:52.997044Z",
     "start_time": "2020-05-05T07:40:52.990956Z"
    }
   },
   "outputs": [
    {
     "name": "stdout",
     "output_type": "stream",
     "text": [
      "['999', '550']\n"
     ]
    }
   ],
   "source": [
    "test_string = 'The Mac book cost over $999, while the windows system can be bought for less than $550.'\n",
    "match=re.findall(r'[0-9]{2,3}',test_string)\n",
    "print(match)"
   ]
  },
  {
   "cell_type": "markdown",
   "metadata": {},
   "source": [
    "### Find all prices in the following test sentence."
   ]
  },
  {
   "cell_type": "code",
   "execution_count": 159,
   "metadata": {
    "ExecuteTime": {
     "end_time": "2020-05-05T07:42:17.697230Z",
     "start_time": "2020-05-05T07:42:17.695569Z"
    }
   },
   "outputs": [
    {
     "name": "stdout",
     "output_type": "stream",
     "text": [
      "['999', '550', '1200', '2500', '30', '390']\n"
     ]
    }
   ],
   "source": [
    "test_string = \"\"\"The iPhone X costs over $999, while the Android cost around $550.\n",
    "\n",
    "Apple's MacBook Pro costs $1200, while razer blade cost $2500.\n",
    "\n",
    "A new charger for iphone cost over $30.\n",
    "\n",
    "Bose headphone cost around $390\n",
    "\n",
    "\"\"\"\n",
    "\n",
    "match=re.findall(r'[0-9]+',test_string)\n",
    "print(match)\n",
    "\n"
   ]
  },
  {
   "cell_type": "markdown",
   "metadata": {},
   "source": [
    "### Find all the better in the given text"
   ]
  },
  {
   "cell_type": "code",
   "execution_count": 84,
   "metadata": {
    "ExecuteTime": {
     "end_time": "2020-05-05T07:42:24.031634Z",
     "start_time": "2020-05-05T07:42:24.025253Z"
    }
   },
   "outputs": [
    {
     "data": {
      "text/plain": [
       "['better',\n",
       " 'better',\n",
       " 'better',\n",
       " 'better',\n",
       " 'better',\n",
       " 'better',\n",
       " 'better',\n",
       " 'better']"
      ]
     },
     "execution_count": 84,
     "metadata": {},
     "output_type": "execute_result"
    }
   ],
   "source": [
    "robot_string = '''The Zen of Python, by Tim Peters\n",
    "\n",
    "Beautiful is better than ugly.\n",
    "Explicit is better than implicit.\n",
    "Simple is better than complex.\n",
    "Complex is better than complicated.\n",
    "Flat is better than nested.\n",
    "Sparse is better than dense.\n",
    "Readability counts.\n",
    "Special cases aren't special enough to break the rules.\n",
    "Although practicality beats purity.\n",
    "Errors should never pass silently.\n",
    "Unless explicitly silenced.\n",
    "In the face of ambiguity, refuse the temptation to guess.\n",
    "There should be one-- and preferably only one --obvious way to do it.\n",
    "Although that way may not be obvious at first unless you're Dutch.\n",
    "Now is better than never.\n",
    "Although never is often better than *right* now.\n",
    "If the implementation is hard to explain, it's a bad idea.\n",
    "If the implementation is easy to explain, it may be a good idea.\n",
    "Namespaces are one honking great idea -- let's do more of those!\n",
    "'''\n",
    "\n",
    "match1=re.findall(r\"(?<=\\s)(better)\",robot_string)\n",
    "match1"
   ]
  },
  {
   "cell_type": "markdown",
   "metadata": {},
   "source": [
    "### Find the word that start with 'bat' and end with 'man'"
   ]
  },
  {
   "cell_type": "code",
   "execution_count": 119,
   "metadata": {
    "ExecuteTime": {
     "end_time": "2020-05-05T07:42:44.473635Z",
     "start_time": "2020-05-05T07:42:44.472084Z"
    }
   },
   "outputs": [
    {
     "data": {
      "text/plain": [
       "['Batman', 'batwoman']"
      ]
     },
     "execution_count": 119,
     "metadata": {},
     "output_type": "execute_result"
    }
   ],
   "source": [
    "test_string = 'Batman is the best movies, batwoman never herad about it.'\n",
    "\n",
    "import re \n",
    "match1=re.findall(r\"[B|b]at[a-z]*|[a-z]*man\",test_string)\n",
    "match1\n",
    "\n"
   ]
  },
  {
   "cell_type": "markdown",
   "metadata": {},
   "source": [
    "### Remove the year from the given list\n"
   ]
  },
  {
   "cell_type": "code",
   "execution_count": 125,
   "metadata": {
    "ExecuteTime": {
     "end_time": "2020-05-05T07:42:55.933429Z",
     "start_time": "2020-05-05T07:42:55.926616Z"
    }
   },
   "outputs": [
    {
     "name": "stdout",
     "output_type": "stream",
     "text": [
      "Another You \n"
     ]
    }
   ],
   "source": [
    "str1=\"Another You (1991-2000)\"\n",
    "\n",
    "result= re.sub(r'[0-9|\\-|\\()]','', str1)\n",
    "print(result)"
   ]
  },
  {
   "cell_type": "markdown",
   "metadata": {},
   "source": [
    "### Write a regex to find the url_name only"
   ]
  },
  {
   "cell_type": "code",
   "execution_count": 148,
   "metadata": {},
   "outputs": [
    {
     "name": "stdout",
     "output_type": "stream",
     "text": [
      "['zombie-bites']\n"
     ]
    }
   ],
   "source": [
    "name=\"http://www.zombie-bites.com\" # >>>zombie-bites output\n",
    "pattern = '[a-z]*-[a-z]*'\n",
    "result = re.findall(pattern, name)\n",
    "print(result)\n"
   ]
  },
  {
   "cell_type": "code",
   "execution_count": null,
   "metadata": {},
   "outputs": [],
   "source": []
  }
 ],
 "metadata": {
  "kernelspec": {
   "display_name": "Python 3",
   "language": "python",
   "name": "python3"
  },
  "language_info": {
   "codemirror_mode": {
    "name": "ipython",
    "version": 3
   },
   "file_extension": ".py",
   "mimetype": "text/x-python",
   "name": "python",
   "nbconvert_exporter": "python",
   "pygments_lexer": "ipython3",
   "version": "3.7.6"
  },
  "toc": {
   "base_numbering": 1,
   "nav_menu": {},
   "number_sections": true,
   "sideBar": true,
   "skip_h1_title": false,
   "title_cell": "Table of Contents",
   "title_sidebar": "Contents",
   "toc_cell": false,
   "toc_position": {},
   "toc_section_display": true,
   "toc_window_display": false
  },
  "varInspector": {
   "cols": {
    "lenName": 16,
    "lenType": 16,
    "lenVar": 40
   },
   "kernels_config": {
    "python": {
     "delete_cmd_postfix": "",
     "delete_cmd_prefix": "del ",
     "library": "var_list.py",
     "varRefreshCmd": "print(var_dic_list())"
    },
    "r": {
     "delete_cmd_postfix": ") ",
     "delete_cmd_prefix": "rm(",
     "library": "var_list.r",
     "varRefreshCmd": "cat(var_dic_list()) "
    }
   },
   "types_to_exclude": [
    "module",
    "function",
    "builtin_function_or_method",
    "instance",
    "_Feature"
   ],
   "window_display": false
  }
 },
 "nbformat": 4,
 "nbformat_minor": 2
}
